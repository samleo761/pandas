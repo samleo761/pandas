{
 "cells": [
  {
   "cell_type": "code",
   "execution_count": null,
   "id": "8aa14bde",
   "metadata": {},
   "outputs": [],
   "source": []
  },
  {
   "cell_type": "code",
   "execution_count": 2,
   "id": "abec6b8a",
   "metadata": {},
   "outputs": [],
   "source": [
    "import numpy as np"
   ]
  },
  {
   "cell_type": "code",
   "execution_count": 5,
   "id": "56afe5a4",
   "metadata": {},
   "outputs": [
    {
     "name": "stdout",
     "output_type": "stream",
     "text": [
      "[[ 1  2  4]\n",
      " [ 4 56  6]\n",
      " [90 45 67]]\n",
      "[1 2 3]\n"
     ]
    },
    {
     "data": {
      "text/plain": [
       "numpy.ndarray"
      ]
     },
     "execution_count": 5,
     "metadata": {},
     "output_type": "execute_result"
    }
   ],
   "source": [
    "a= np.array([1,2,3])\n",
    "b= np.array([(1,2,4),(4,56,6),(90,45,67)])\n",
    "print(b)\n",
    "print(a)\n",
    "type(a)"
   ]
  },
  {
   "cell_type": "code",
   "execution_count": 8,
   "id": "1d4786b9",
   "metadata": {},
   "outputs": [],
   "source": [
    "##transpose "
   ]
  },
  {
   "cell_type": "code",
   "execution_count": 9,
   "id": "324cccea",
   "metadata": {},
   "outputs": [
    {
     "name": "stdout",
     "output_type": "stream",
     "text": [
      "[[ 1  4 90]\n",
      " [ 2 56 45]\n",
      " [ 4  6 67]]\n"
     ]
    }
   ],
   "source": [
    "trans=np.transpose(b)\n",
    "print(trans)"
   ]
  },
  {
   "cell_type": "code",
   "execution_count": 10,
   "id": "76166e6f",
   "metadata": {},
   "outputs": [],
   "source": [
    "##flater the array"
   ]
  },
  {
   "cell_type": "code",
   "execution_count": 11,
   "id": "a514633a",
   "metadata": {},
   "outputs": [
    {
     "data": {
      "text/plain": [
       "array([ 1,  2,  4,  4, 56,  6, 90, 45, 67])"
      ]
     },
     "execution_count": 11,
     "metadata": {},
     "output_type": "execute_result"
    }
   ],
   "source": [
    "b.ravel()\n",
    "b.reshape"
   ]
  },
  {
   "cell_type": "code",
   "execution_count": 14,
   "id": "ba203fc8",
   "metadata": {},
   "outputs": [],
   "source": [
    "ze=np.array([(0,0,0),(0,0,0),(0,0,0)])"
   ]
  },
  {
   "cell_type": "code",
   "execution_count": 15,
   "id": "bc71e05d",
   "metadata": {},
   "outputs": [
    {
     "data": {
      "text/plain": [
       "array([ 1,  4, 90,  2, 56, 45,  4,  6, 67,  0,  0,  0,  0,  0,  0,  0,  0,\n",
       "        0])"
      ]
     },
     "execution_count": 15,
     "metadata": {},
     "output_type": "execute_result"
    }
   ],
   "source": [
    "np.append(trans,ze)"
   ]
  },
  {
   "cell_type": "code",
   "execution_count": 20,
   "id": "7bda4389",
   "metadata": {},
   "outputs": [
    {
     "data": {
      "text/plain": [
       "array([[ 1,  4, 90,  0,  0,  0],\n",
       "       [ 2, 56, 45,  0,  0,  0],\n",
       "       [ 4,  6, 67,  0,  0,  0]])"
      ]
     },
     "execution_count": 20,
     "metadata": {},
     "output_type": "execute_result"
    }
   ],
   "source": [
    "np.concatenate((trans,ze),axis=1)"
   ]
  },
  {
   "cell_type": "code",
   "execution_count": 22,
   "id": "9093453a",
   "metadata": {},
   "outputs": [],
   "source": [
    "#empty array"
   ]
  },
  {
   "cell_type": "code",
   "execution_count": 23,
   "id": "b9e6a445",
   "metadata": {},
   "outputs": [
    {
     "data": {
      "text/plain": [
       "array([[0.00000000e+000, 0.00000000e+000, 0.00000000e+000],\n",
       "       [0.00000000e+000, 0.00000000e+000, 6.50190390e-321],\n",
       "       [1.05699242e-307, 3.11523242e-307, 5.68175493e-322]])"
      ]
     },
     "execution_count": 23,
     "metadata": {},
     "output_type": "execute_result"
    }
   ],
   "source": [
    "np.empty((3,3))"
   ]
  },
  {
   "cell_type": "code",
   "execution_count": 26,
   "id": "176c5287",
   "metadata": {},
   "outputs": [
    {
     "data": {
      "text/plain": [
       "array([[0.43636062, 0.47217948, 0.36002558, ..., 0.50179329, 0.10329742,\n",
       "        0.58794058],\n",
       "       [0.92970556, 0.96860839, 0.25649777, ..., 0.8029889 , 0.62529129,\n",
       "        0.13251744],\n",
       "       [0.56745414, 0.5873291 , 0.2100413 , ..., 0.28150771, 0.44915749,\n",
       "        0.84892336],\n",
       "       ...,\n",
       "       [0.70718973, 0.28711296, 0.46571518, ..., 0.7217894 , 0.43429773,\n",
       "        0.60083621],\n",
       "       [0.90535843, 0.33538688, 0.4802679 , ..., 0.28230248, 0.39639082,\n",
       "        0.73937668],\n",
       "       [0.07768028, 0.76145173, 0.79803401, ..., 0.94162614, 0.72017705,\n",
       "        0.37047226]])"
      ]
     },
     "execution_count": 26,
     "metadata": {},
     "output_type": "execute_result"
    }
   ],
   "source": [
    "np.random.random((50,30))"
   ]
  },
  {
   "cell_type": "code",
   "execution_count": null,
   "id": "517ac9c3",
   "metadata": {},
   "outputs": [],
   "source": []
  },
  {
   "cell_type": "code",
   "execution_count": null,
   "id": "52c945dc",
   "metadata": {},
   "outputs": [],
   "source": []
  }
 ],
 "metadata": {
  "kernelspec": {
   "display_name": "Python 3 (ipykernel)",
   "language": "python",
   "name": "python3"
  },
  "language_info": {
   "codemirror_mode": {
    "name": "ipython",
    "version": 3
   },
   "file_extension": ".py",
   "mimetype": "text/x-python",
   "name": "python",
   "nbconvert_exporter": "python",
   "pygments_lexer": "ipython3",
   "version": "3.9.7"
  }
 },
 "nbformat": 4,
 "nbformat_minor": 5
}
